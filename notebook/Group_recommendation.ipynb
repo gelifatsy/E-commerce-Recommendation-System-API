{
 "cells": [
  {
   "cell_type": "code",
   "execution_count": 2,
   "metadata": {},
   "outputs": [],
   "source": [
    "import pandas as pd, os"
   ]
  },
  {
   "cell_type": "code",
   "execution_count": 3,
   "metadata": {},
   "outputs": [],
   "source": [
    "# Paths to the CSV files\n",
    "path_to_data = \"CleanedData/\"  # Adjust the path if your working directory is different\n",
    "\n",
    "# Loading each table into a pandas DataFrame\n",
    "groups_df = pd.read_csv(f\"{path_to_data}cleaned_groups.csv\")"
   ]
  },
  {
   "cell_type": "code",
   "execution_count": 4,
   "metadata": {},
   "outputs": [
    {
     "data": {
      "text/html": [
       "<div>\n",
       "<style scoped>\n",
       "    .dataframe tbody tr th:only-of-type {\n",
       "        vertical-align: middle;\n",
       "    }\n",
       "\n",
       "    .dataframe tbody tr th {\n",
       "        vertical-align: top;\n",
       "    }\n",
       "\n",
       "    .dataframe thead th {\n",
       "        text-align: right;\n",
       "    }\n",
       "</style>\n",
       "<table border=\"1\" class=\"dataframe\">\n",
       "  <thead>\n",
       "    <tr style=\"text-align: right;\">\n",
       "      <th></th>\n",
       "      <th>id_group</th>\n",
       "      <th>group_deals_id</th>\n",
       "      <th>created_by</th>\n",
       "      <th>created_at_group</th>\n",
       "      <th>id_deal</th>\n",
       "      <th>product_id</th>\n",
       "      <th>created_at_deal</th>\n",
       "      <th>id</th>\n",
       "      <th>group_id</th>\n",
       "      <th>user_id</th>\n",
       "      <th>created_at</th>\n",
       "      <th>day_of_week</th>\n",
       "      <th>day_of_month</th>\n",
       "      <th>formatted_date</th>\n",
       "    </tr>\n",
       "  </thead>\n",
       "  <tbody>\n",
       "    <tr>\n",
       "      <th>0</th>\n",
       "      <td>f1b11bbf-8cc8-4421-b573-887c35532a66</td>\n",
       "      <td>07d7d32e-ee7e-4594-8917-f604db617b4d</td>\n",
       "      <td>ad752023-a7af-4b14-95d0-6399f95c6eb6</td>\n",
       "      <td>2023-10-12 10:51:04.718603</td>\n",
       "      <td>07d7d32e-ee7e-4594-8917-f604db617b4d</td>\n",
       "      <td>7af7c574-12e0-4d0e-a030-2721d28271a7</td>\n",
       "      <td>2023-10-12 10:34:14.582614</td>\n",
       "      <td>46600d13-dd87-4899-ba4e-e4bee0c16719</td>\n",
       "      <td>f1b11bbf-8cc8-4421-b573-887c35532a66</td>\n",
       "      <td>ad752023-a7af-4b14-95d0-6399f95c6eb6</td>\n",
       "      <td>2023-10-12 10:51:04.718603</td>\n",
       "      <td>Thursday</td>\n",
       "      <td>12</td>\n",
       "      <td>12/10/2023</td>\n",
       "    </tr>\n",
       "    <tr>\n",
       "      <th>1</th>\n",
       "      <td>e60d7466-d5f2-4ec0-a233-7cb517bc51b4</td>\n",
       "      <td>7f953c00-00f7-4c63-a826-9ee3fd79cb61</td>\n",
       "      <td>6f0097fd-f90e-47d9-87e6-12c7c86f6fd6</td>\n",
       "      <td>2023-10-12 12:25:24.589544</td>\n",
       "      <td>7f953c00-00f7-4c63-a826-9ee3fd79cb61</td>\n",
       "      <td>60efc7c9-7fbe-4565-9903-cb992122d1ca</td>\n",
       "      <td>2023-10-12 12:06:52.323100</td>\n",
       "      <td>32c07740-345f-4cfd-aca7-bfd58edb1fb7</td>\n",
       "      <td>e60d7466-d5f2-4ec0-a233-7cb517bc51b4</td>\n",
       "      <td>6f0097fd-f90e-47d9-87e6-12c7c86f6fd6</td>\n",
       "      <td>2023-10-12 12:25:24.589544</td>\n",
       "      <td>Thursday</td>\n",
       "      <td>12</td>\n",
       "      <td>12/10/2023</td>\n",
       "    </tr>\n",
       "    <tr>\n",
       "      <th>2</th>\n",
       "      <td>34435226-f9e5-4957-9f1b-e821321960c4</td>\n",
       "      <td>f332ef04-769a-4a2e-88f8-c75a508b189e</td>\n",
       "      <td>6f0097fd-f90e-47d9-87e6-12c7c86f6fd6</td>\n",
       "      <td>2023-10-12 13:03:05.058391</td>\n",
       "      <td>f332ef04-769a-4a2e-88f8-c75a508b189e</td>\n",
       "      <td>0f8b7023-75c7-46cc-a1ba-67c3ddb36be4</td>\n",
       "      <td>2023-10-12 12:07:39.895146</td>\n",
       "      <td>7946d4a5-fe41-4d13-8ee7-8d42b90a0415</td>\n",
       "      <td>34435226-f9e5-4957-9f1b-e821321960c4</td>\n",
       "      <td>6f0097fd-f90e-47d9-87e6-12c7c86f6fd6</td>\n",
       "      <td>2023-10-12 13:03:05.058391</td>\n",
       "      <td>Thursday</td>\n",
       "      <td>12</td>\n",
       "      <td>12/10/2023</td>\n",
       "    </tr>\n",
       "    <tr>\n",
       "      <th>3</th>\n",
       "      <td>1b46dbdb-1f2f-4e2c-93e2-a26e8a5daf07</td>\n",
       "      <td>67ff6da3-bad0-4098-bd9a-bead172186f6</td>\n",
       "      <td>3a431b3f-d4d1-4707-a581-92f9d11bd70d</td>\n",
       "      <td>2023-10-16 07:14:22.280607</td>\n",
       "      <td>67ff6da3-bad0-4098-bd9a-bead172186f6</td>\n",
       "      <td>96e69db3-f364-4be2-81ac-996e2352d587</td>\n",
       "      <td>2023-10-12 12:07:17.814123</td>\n",
       "      <td>20210058-eb93-4a9b-9253-ab785c54e6b1</td>\n",
       "      <td>1b46dbdb-1f2f-4e2c-93e2-a26e8a5daf07</td>\n",
       "      <td>3a431b3f-d4d1-4707-a581-92f9d11bd70d</td>\n",
       "      <td>2023-10-16 07:14:22.280607</td>\n",
       "      <td>Thursday</td>\n",
       "      <td>12</td>\n",
       "      <td>12/10/2023</td>\n",
       "    </tr>\n",
       "    <tr>\n",
       "      <th>4</th>\n",
       "      <td>1b46dbdb-1f2f-4e2c-93e2-a26e8a5daf07</td>\n",
       "      <td>67ff6da3-bad0-4098-bd9a-bead172186f6</td>\n",
       "      <td>3a431b3f-d4d1-4707-a581-92f9d11bd70d</td>\n",
       "      <td>2023-10-16 07:14:22.280607</td>\n",
       "      <td>67ff6da3-bad0-4098-bd9a-bead172186f6</td>\n",
       "      <td>96e69db3-f364-4be2-81ac-996e2352d587</td>\n",
       "      <td>2023-10-12 12:07:17.814123</td>\n",
       "      <td>ee6fa9ac-106b-40cc-b342-8abef75c26ca</td>\n",
       "      <td>1b46dbdb-1f2f-4e2c-93e2-a26e8a5daf07</td>\n",
       "      <td>9df0336c-eb96-4cc8-b9d3-763e86bfde02</td>\n",
       "      <td>2023-10-16 07:25:27.863189</td>\n",
       "      <td>Thursday</td>\n",
       "      <td>12</td>\n",
       "      <td>12/10/2023</td>\n",
       "    </tr>\n",
       "    <tr>\n",
       "      <th>...</th>\n",
       "      <td>...</td>\n",
       "      <td>...</td>\n",
       "      <td>...</td>\n",
       "      <td>...</td>\n",
       "      <td>...</td>\n",
       "      <td>...</td>\n",
       "      <td>...</td>\n",
       "      <td>...</td>\n",
       "      <td>...</td>\n",
       "      <td>...</td>\n",
       "      <td>...</td>\n",
       "      <td>...</td>\n",
       "      <td>...</td>\n",
       "      <td>...</td>\n",
       "    </tr>\n",
       "    <tr>\n",
       "      <th>64339</th>\n",
       "      <td>9573e937-80ad-4c92-8234-f7ae9b69a89f</td>\n",
       "      <td>f123266e-caf0-4eb3-998c-5a6efd4d8140</td>\n",
       "      <td>371ada8d-6fff-4723-9826-21e8e55426ec</td>\n",
       "      <td>2024-03-06 07:16:39.055988</td>\n",
       "      <td>f123266e-caf0-4eb3-998c-5a6efd4d8140</td>\n",
       "      <td>7af7c574-12e0-4d0e-a030-2721d28271a7</td>\n",
       "      <td>2024-03-05 07:52:34.309535</td>\n",
       "      <td>d7bc9de6-d81a-40c9-a018-e4098ab79dc3</td>\n",
       "      <td>9573e937-80ad-4c92-8234-f7ae9b69a89f</td>\n",
       "      <td>83ebc17a-427a-47c8-a550-a906d2306d59</td>\n",
       "      <td>2024-03-06 07:54:57.212038</td>\n",
       "      <td>Tuesday</td>\n",
       "      <td>5</td>\n",
       "      <td>05/03/2024</td>\n",
       "    </tr>\n",
       "    <tr>\n",
       "      <th>64340</th>\n",
       "      <td>88e43361-2fb1-4b7e-bfd0-585cc5dc44af</td>\n",
       "      <td>89579fed-b0a8-42f9-9160-f7dc51c05896</td>\n",
       "      <td>7e646dc8-2433-4502-9960-0e1a0a822315</td>\n",
       "      <td>2024-03-06 08:00:18.476773</td>\n",
       "      <td>89579fed-b0a8-42f9-9160-f7dc51c05896</td>\n",
       "      <td>1240fe96-0539-4bff-b27e-ec0b39b010c3</td>\n",
       "      <td>2024-03-05 07:48:50.225733</td>\n",
       "      <td>42b42ca5-37c7-47cf-a997-a5643b4c1f6b</td>\n",
       "      <td>88e43361-2fb1-4b7e-bfd0-585cc5dc44af</td>\n",
       "      <td>7e646dc8-2433-4502-9960-0e1a0a822315</td>\n",
       "      <td>2024-03-06 08:00:18.476773</td>\n",
       "      <td>Tuesday</td>\n",
       "      <td>5</td>\n",
       "      <td>05/03/2024</td>\n",
       "    </tr>\n",
       "    <tr>\n",
       "      <th>64341</th>\n",
       "      <td>f740c827-46e7-4f06-a7d4-042e04374ea0</td>\n",
       "      <td>ad3997fc-5968-4b49-b37c-47db298fc05d</td>\n",
       "      <td>96ceec8f-d880-4367-9776-2e98653755a0</td>\n",
       "      <td>2024-03-06 07:21:05.794165</td>\n",
       "      <td>ad3997fc-5968-4b49-b37c-47db298fc05d</td>\n",
       "      <td>b389c768-58d9-4d21-a202-9b84232c09ff</td>\n",
       "      <td>2024-03-05 07:32:14.479102</td>\n",
       "      <td>3fcad834-e203-480d-a7d3-5ec9c5dc44d0</td>\n",
       "      <td>f740c827-46e7-4f06-a7d4-042e04374ea0</td>\n",
       "      <td>dc2e770a-0778-4a75-b8c8-931be2c8f118</td>\n",
       "      <td>2024-03-06 07:25:15.438140</td>\n",
       "      <td>Tuesday</td>\n",
       "      <td>5</td>\n",
       "      <td>05/03/2024</td>\n",
       "    </tr>\n",
       "    <tr>\n",
       "      <th>64342</th>\n",
       "      <td>f740c827-46e7-4f06-a7d4-042e04374ea0</td>\n",
       "      <td>ad3997fc-5968-4b49-b37c-47db298fc05d</td>\n",
       "      <td>96ceec8f-d880-4367-9776-2e98653755a0</td>\n",
       "      <td>2024-03-06 07:21:05.794165</td>\n",
       "      <td>ad3997fc-5968-4b49-b37c-47db298fc05d</td>\n",
       "      <td>b389c768-58d9-4d21-a202-9b84232c09ff</td>\n",
       "      <td>2024-03-05 07:32:14.479102</td>\n",
       "      <td>f2e53e32-f842-4215-97a2-485777903df2</td>\n",
       "      <td>f740c827-46e7-4f06-a7d4-042e04374ea0</td>\n",
       "      <td>96ceec8f-d880-4367-9776-2e98653755a0</td>\n",
       "      <td>2024-03-06 07:21:05.794165</td>\n",
       "      <td>Tuesday</td>\n",
       "      <td>5</td>\n",
       "      <td>05/03/2024</td>\n",
       "    </tr>\n",
       "    <tr>\n",
       "      <th>64343</th>\n",
       "      <td>f740c827-46e7-4f06-a7d4-042e04374ea0</td>\n",
       "      <td>ad3997fc-5968-4b49-b37c-47db298fc05d</td>\n",
       "      <td>96ceec8f-d880-4367-9776-2e98653755a0</td>\n",
       "      <td>2024-03-06 07:21:05.794165</td>\n",
       "      <td>ad3997fc-5968-4b49-b37c-47db298fc05d</td>\n",
       "      <td>b389c768-58d9-4d21-a202-9b84232c09ff</td>\n",
       "      <td>2024-03-05 07:32:14.479102</td>\n",
       "      <td>d1b21ba3-ef6c-459c-abfa-05b12d0eead0</td>\n",
       "      <td>f740c827-46e7-4f06-a7d4-042e04374ea0</td>\n",
       "      <td>4b659b17-d441-4e39-88e1-8faa52434467</td>\n",
       "      <td>2024-03-06 07:33:09.093598</td>\n",
       "      <td>Tuesday</td>\n",
       "      <td>5</td>\n",
       "      <td>05/03/2024</td>\n",
       "    </tr>\n",
       "  </tbody>\n",
       "</table>\n",
       "<p>64344 rows × 14 columns</p>\n",
       "</div>"
      ],
      "text/plain": [
       "                                   id_group  \\\n",
       "0      f1b11bbf-8cc8-4421-b573-887c35532a66   \n",
       "1      e60d7466-d5f2-4ec0-a233-7cb517bc51b4   \n",
       "2      34435226-f9e5-4957-9f1b-e821321960c4   \n",
       "3      1b46dbdb-1f2f-4e2c-93e2-a26e8a5daf07   \n",
       "4      1b46dbdb-1f2f-4e2c-93e2-a26e8a5daf07   \n",
       "...                                     ...   \n",
       "64339  9573e937-80ad-4c92-8234-f7ae9b69a89f   \n",
       "64340  88e43361-2fb1-4b7e-bfd0-585cc5dc44af   \n",
       "64341  f740c827-46e7-4f06-a7d4-042e04374ea0   \n",
       "64342  f740c827-46e7-4f06-a7d4-042e04374ea0   \n",
       "64343  f740c827-46e7-4f06-a7d4-042e04374ea0   \n",
       "\n",
       "                             group_deals_id  \\\n",
       "0      07d7d32e-ee7e-4594-8917-f604db617b4d   \n",
       "1      7f953c00-00f7-4c63-a826-9ee3fd79cb61   \n",
       "2      f332ef04-769a-4a2e-88f8-c75a508b189e   \n",
       "3      67ff6da3-bad0-4098-bd9a-bead172186f6   \n",
       "4      67ff6da3-bad0-4098-bd9a-bead172186f6   \n",
       "...                                     ...   \n",
       "64339  f123266e-caf0-4eb3-998c-5a6efd4d8140   \n",
       "64340  89579fed-b0a8-42f9-9160-f7dc51c05896   \n",
       "64341  ad3997fc-5968-4b49-b37c-47db298fc05d   \n",
       "64342  ad3997fc-5968-4b49-b37c-47db298fc05d   \n",
       "64343  ad3997fc-5968-4b49-b37c-47db298fc05d   \n",
       "\n",
       "                                 created_by            created_at_group  \\\n",
       "0      ad752023-a7af-4b14-95d0-6399f95c6eb6  2023-10-12 10:51:04.718603   \n",
       "1      6f0097fd-f90e-47d9-87e6-12c7c86f6fd6  2023-10-12 12:25:24.589544   \n",
       "2      6f0097fd-f90e-47d9-87e6-12c7c86f6fd6  2023-10-12 13:03:05.058391   \n",
       "3      3a431b3f-d4d1-4707-a581-92f9d11bd70d  2023-10-16 07:14:22.280607   \n",
       "4      3a431b3f-d4d1-4707-a581-92f9d11bd70d  2023-10-16 07:14:22.280607   \n",
       "...                                     ...                         ...   \n",
       "64339  371ada8d-6fff-4723-9826-21e8e55426ec  2024-03-06 07:16:39.055988   \n",
       "64340  7e646dc8-2433-4502-9960-0e1a0a822315  2024-03-06 08:00:18.476773   \n",
       "64341  96ceec8f-d880-4367-9776-2e98653755a0  2024-03-06 07:21:05.794165   \n",
       "64342  96ceec8f-d880-4367-9776-2e98653755a0  2024-03-06 07:21:05.794165   \n",
       "64343  96ceec8f-d880-4367-9776-2e98653755a0  2024-03-06 07:21:05.794165   \n",
       "\n",
       "                                    id_deal  \\\n",
       "0      07d7d32e-ee7e-4594-8917-f604db617b4d   \n",
       "1      7f953c00-00f7-4c63-a826-9ee3fd79cb61   \n",
       "2      f332ef04-769a-4a2e-88f8-c75a508b189e   \n",
       "3      67ff6da3-bad0-4098-bd9a-bead172186f6   \n",
       "4      67ff6da3-bad0-4098-bd9a-bead172186f6   \n",
       "...                                     ...   \n",
       "64339  f123266e-caf0-4eb3-998c-5a6efd4d8140   \n",
       "64340  89579fed-b0a8-42f9-9160-f7dc51c05896   \n",
       "64341  ad3997fc-5968-4b49-b37c-47db298fc05d   \n",
       "64342  ad3997fc-5968-4b49-b37c-47db298fc05d   \n",
       "64343  ad3997fc-5968-4b49-b37c-47db298fc05d   \n",
       "\n",
       "                                 product_id             created_at_deal  \\\n",
       "0      7af7c574-12e0-4d0e-a030-2721d28271a7  2023-10-12 10:34:14.582614   \n",
       "1      60efc7c9-7fbe-4565-9903-cb992122d1ca  2023-10-12 12:06:52.323100   \n",
       "2      0f8b7023-75c7-46cc-a1ba-67c3ddb36be4  2023-10-12 12:07:39.895146   \n",
       "3      96e69db3-f364-4be2-81ac-996e2352d587  2023-10-12 12:07:17.814123   \n",
       "4      96e69db3-f364-4be2-81ac-996e2352d587  2023-10-12 12:07:17.814123   \n",
       "...                                     ...                         ...   \n",
       "64339  7af7c574-12e0-4d0e-a030-2721d28271a7  2024-03-05 07:52:34.309535   \n",
       "64340  1240fe96-0539-4bff-b27e-ec0b39b010c3  2024-03-05 07:48:50.225733   \n",
       "64341  b389c768-58d9-4d21-a202-9b84232c09ff  2024-03-05 07:32:14.479102   \n",
       "64342  b389c768-58d9-4d21-a202-9b84232c09ff  2024-03-05 07:32:14.479102   \n",
       "64343  b389c768-58d9-4d21-a202-9b84232c09ff  2024-03-05 07:32:14.479102   \n",
       "\n",
       "                                         id  \\\n",
       "0      46600d13-dd87-4899-ba4e-e4bee0c16719   \n",
       "1      32c07740-345f-4cfd-aca7-bfd58edb1fb7   \n",
       "2      7946d4a5-fe41-4d13-8ee7-8d42b90a0415   \n",
       "3      20210058-eb93-4a9b-9253-ab785c54e6b1   \n",
       "4      ee6fa9ac-106b-40cc-b342-8abef75c26ca   \n",
       "...                                     ...   \n",
       "64339  d7bc9de6-d81a-40c9-a018-e4098ab79dc3   \n",
       "64340  42b42ca5-37c7-47cf-a997-a5643b4c1f6b   \n",
       "64341  3fcad834-e203-480d-a7d3-5ec9c5dc44d0   \n",
       "64342  f2e53e32-f842-4215-97a2-485777903df2   \n",
       "64343  d1b21ba3-ef6c-459c-abfa-05b12d0eead0   \n",
       "\n",
       "                                   group_id  \\\n",
       "0      f1b11bbf-8cc8-4421-b573-887c35532a66   \n",
       "1      e60d7466-d5f2-4ec0-a233-7cb517bc51b4   \n",
       "2      34435226-f9e5-4957-9f1b-e821321960c4   \n",
       "3      1b46dbdb-1f2f-4e2c-93e2-a26e8a5daf07   \n",
       "4      1b46dbdb-1f2f-4e2c-93e2-a26e8a5daf07   \n",
       "...                                     ...   \n",
       "64339  9573e937-80ad-4c92-8234-f7ae9b69a89f   \n",
       "64340  88e43361-2fb1-4b7e-bfd0-585cc5dc44af   \n",
       "64341  f740c827-46e7-4f06-a7d4-042e04374ea0   \n",
       "64342  f740c827-46e7-4f06-a7d4-042e04374ea0   \n",
       "64343  f740c827-46e7-4f06-a7d4-042e04374ea0   \n",
       "\n",
       "                                    user_id                  created_at  \\\n",
       "0      ad752023-a7af-4b14-95d0-6399f95c6eb6  2023-10-12 10:51:04.718603   \n",
       "1      6f0097fd-f90e-47d9-87e6-12c7c86f6fd6  2023-10-12 12:25:24.589544   \n",
       "2      6f0097fd-f90e-47d9-87e6-12c7c86f6fd6  2023-10-12 13:03:05.058391   \n",
       "3      3a431b3f-d4d1-4707-a581-92f9d11bd70d  2023-10-16 07:14:22.280607   \n",
       "4      9df0336c-eb96-4cc8-b9d3-763e86bfde02  2023-10-16 07:25:27.863189   \n",
       "...                                     ...                         ...   \n",
       "64339  83ebc17a-427a-47c8-a550-a906d2306d59  2024-03-06 07:54:57.212038   \n",
       "64340  7e646dc8-2433-4502-9960-0e1a0a822315  2024-03-06 08:00:18.476773   \n",
       "64341  dc2e770a-0778-4a75-b8c8-931be2c8f118  2024-03-06 07:25:15.438140   \n",
       "64342  96ceec8f-d880-4367-9776-2e98653755a0  2024-03-06 07:21:05.794165   \n",
       "64343  4b659b17-d441-4e39-88e1-8faa52434467  2024-03-06 07:33:09.093598   \n",
       "\n",
       "      day_of_week  day_of_month formatted_date  \n",
       "0        Thursday            12     12/10/2023  \n",
       "1        Thursday            12     12/10/2023  \n",
       "2        Thursday            12     12/10/2023  \n",
       "3        Thursday            12     12/10/2023  \n",
       "4        Thursday            12     12/10/2023  \n",
       "...           ...           ...            ...  \n",
       "64339     Tuesday             5     05/03/2024  \n",
       "64340     Tuesday             5     05/03/2024  \n",
       "64341     Tuesday             5     05/03/2024  \n",
       "64342     Tuesday             5     05/03/2024  \n",
       "64343     Tuesday             5     05/03/2024  \n",
       "\n",
       "[64344 rows x 14 columns]"
      ]
     },
     "execution_count": 4,
     "metadata": {},
     "output_type": "execute_result"
    }
   ],
   "source": [
    "groups_df"
   ]
  },
  {
   "cell_type": "markdown",
   "metadata": {},
   "source": [
    "## Data Preparation\n",
    "create a user-product interaction matrix. This matrix will help us understand which products are favored by which users, a key component for making recommendations.    \n"
   ]
  },
  {
   "cell_type": "code",
   "execution_count": 5,
   "metadata": {},
   "outputs": [],
   "source": [
    "\n",
    "# Creating a user-product interaction matrix\n",
    "interaction_matrix = groups_df.pivot_table(index='user_id', columns='product_id', aggfunc='size', fill_value=0)"
   ]
  },
  {
   "cell_type": "code",
   "execution_count": 86,
   "metadata": {},
   "outputs": [],
   "source": [
    "# Save the cleaned DataFrame to a CSV file\n",
    "# Ensure the 'CleanedData' directory exists\n",
    "folder_path = \"CleanedData\"\n",
    "if not os.path.exists(folder_path):\n",
    "    os.makedirs(folder_path)\n",
    "\n",
    "# Specify the full path including the file name\n",
    "file_path = os.path.join(folder_path, 'group_interaction_matrix.csv')\n",
    "\n",
    "# Save the DataFrame\n",
    "interaction_matrix.to_csv(file_path, index=False)"
   ]
  },
  {
   "cell_type": "markdown",
   "metadata": {},
   "source": [
    "## Similarity Calculation\n",
    "compute similarities between users based on their interaction profiles. We can use cosine similarity, which is effective for this type of data."
   ]
  },
  {
   "cell_type": "code",
   "execution_count": 7,
   "metadata": {},
   "outputs": [],
   "source": [
    "\n",
    "from sklearn.metrics.pairwise import cosine_similarity\n",
    "\n",
    "# Calculating cosine similarity between user vectors\n",
    "similarity_matrix = cosine_similarity(interaction_matrix)\n",
    "similarity_df = pd.DataFrame(similarity_matrix, index=interaction_matrix.index, columns=interaction_matrix.index)"
   ]
  },
  {
   "cell_type": "markdown",
   "metadata": {},
   "source": [
    "## Clustering Users\n",
    "We'll use hierarchical clustering to form clusters of users. Given your specific requirement for groups of three, we should aim to cut the dendrogram to create clusters roughly of this size."
   ]
  },
  {
   "cell_type": "code",
   "execution_count": 9,
   "metadata": {},
   "outputs": [
    {
     "name": "stdout",
     "output_type": "stream",
     "text": [
      "(5287, 5287)\n",
      "(64344, 14)\n"
     ]
    }
   ],
   "source": [
    "print(similarity_df.shape)\n",
    "print(groups_df.shape)"
   ]
  },
  {
   "cell_type": "code",
   "execution_count": 10,
   "metadata": {},
   "outputs": [],
   "source": [
    "from scipy.cluster.hierarchy import linkage, fcluster\n",
    "\n",
    "# Convert similarity matrix to numpy array if it isn't already\n",
    "Z = linkage(similarity_df.values, method='ward')\n",
    "\n",
    "# Define a maximum distance to cut the dendrograms to form clusters\n",
    "max_d = 7.5  # Adjust this based on your specific needs\n",
    "clusters = fcluster(Z, max_d, criterion='distance')"
   ]
  },
  {
   "cell_type": "code",
   "execution_count": 11,
   "metadata": {},
   "outputs": [],
   "source": [
    "# Create a mapping from user_id to cluster\n",
    "cluster_map = pd.Series(clusters, index=similarity_df.index)\n",
    "\n",
    "# Map these clusters to the full_group_df based on user_id\n",
    "groups_df['cluster'] = groups_df['user_id'].map(cluster_map)"
   ]
  },
  {
   "cell_type": "code",
   "execution_count": 12,
   "metadata": {},
   "outputs": [
    {
     "name": "stdout",
     "output_type": "stream",
     "text": [
      "Unassigned cluster count: 0\n"
     ]
    }
   ],
   "source": [
    "print(\"Unassigned cluster count:\", groups_df['cluster'].isna().sum())"
   ]
  },
  {
   "cell_type": "markdown",
   "metadata": {},
   "source": [
    "## Analysis and Recommendations\n",
    "examine the clusters to find those with exactly three members, or close to it, and analyze their behavior or recommend products:"
   ]
  },
  {
   "cell_type": "code",
   "execution_count": null,
   "metadata": {},
   "outputs": [],
   "source": [
    "# Analyze clusters\n",
    "cluster_counts = groups_df['cluster'].value_counts()\n",
    "print(cluster_counts)"
   ]
  },
  {
   "cell_type": "code",
   "execution_count": 53,
   "metadata": {},
   "outputs": [],
   "source": [
    "import pandas as pd\n",
    "\n",
    "def check_user_interactions(interaction_matrix, user_id):\n",
    "    \"\"\" Check if a user has any interactions. \"\"\"\n",
    "    # Ensure the user_id is in the matrix to avoid key errors\n",
    "    if user_id in interaction_matrix.index:\n",
    "        return interaction_matrix.loc[user_id].sum() > 0\n",
    "    return False\n",
    "\n",
    "def recommend_top_users(interaction_matrix, n=2):\n",
    "    \"\"\" Recommend users with the highest number of interactions. \"\"\"\n",
    "    user_interactions_count = interaction_matrix.sum(axis=1)\n",
    "    top_users = user_interactions_count.nlargest(n).index.tolist()\n",
    "    return top_users\n"
   ]
  },
  {
   "cell_type": "code",
   "execution_count": 64,
   "metadata": {},
   "outputs": [],
   "source": [
    "def analyze_clusters(groups_df, user_id, interaction_matrix):\n",
    "    if not check_user_interactions(interaction_matrix, user_id):\n",
    "        return {'recommended_users': recommend_top_users(interaction_matrix, 2)}\n",
    "\n",
    "    user_cluster = groups_df.loc[groups_df['user_id'] == user_id, 'cluster'].values[0]\n",
    "    cluster_users = groups_df.loc[groups_df['cluster'] == user_cluster, 'user_id']\n",
    "    cluster_users = cluster_users[cluster_users != user_id]\n",
    "    recommended_users = cluster_users.head(2).tolist()\n",
    "    return {'recommended_users': recommended_users}"
   ]
  },
  {
   "cell_type": "code",
   "execution_count": 65,
   "metadata": {},
   "outputs": [],
   "source": [
    "# recommendations = analyze_clusters(groups_df, \"ad752023-a7af-4b14-95d0-6399f95c6eb6\")\n",
    "# print(recommendations)"
   ]
  },
  {
   "cell_type": "code",
   "execution_count": 66,
   "metadata": {},
   "outputs": [],
   "source": [
    "def get_user_recommendations(groups_df, user_id, interaction_matrix):\n",
    "    return analyze_clusters(groups_df, user_id, interaction_matrix)"
   ]
  },
  {
   "cell_type": "code",
   "execution_count": 67,
   "metadata": {},
   "outputs": [],
   "source": [
    "def get_recommended_purchases(groups_df, recommended_users):\n",
    "    \"\"\"\n",
    "    Retrieves the purchase history for the recommended users.\n",
    "    \n",
    "    Args:\n",
    "        full_group_df (pandas.DataFrame): The input DataFrame containing the 'user_id', 'product_id', and other relevant columns.\n",
    "        recommended_users (list): A list of recommended user IDs.\n",
    "    \n",
    "    Returns:\n",
    "        pandas.DataFrame: A DataFrame containing the purchase history for the recommended users.\n",
    "    \"\"\"\n",
    "    recommended_purchases = groups_df.loc[groups_df['user_id'].isin(recommended_users), ['user_id', 'product_id', 'created_at']]\n",
    "    return recommended_purchases"
   ]
  },
  {
   "cell_type": "code",
   "execution_count": 68,
   "metadata": {},
   "outputs": [],
   "source": [
    "# user_id = 'ad752023-a7af-4b14-95d0-6399f95c6eb6'\n",
    "# recommendations = analyze_clusters(groups_df, user_id)\n",
    "# print(recommendations)"
   ]
  },
  {
   "cell_type": "code",
   "execution_count": 69,
   "metadata": {},
   "outputs": [
    {
     "name": "stdout",
     "output_type": "stream",
     "text": [
      "{'recommended_users': ['f6dbd846-af65-4cbf-b24d-e8129016117f', 'f6dbd846-af65-4cbf-b24d-e8129016117f']}\n"
     ]
    }
   ],
   "source": [
    "# Example usage\n",
    "user_id = 'ad752023-a7af-4b14-95d0-6399f95c6eb6'\n",
    "recommendations = analyze_clusters(groups_df, user_id, interaction_matrix)\n",
    "print(recommendations)\n",
    "\n"
   ]
  },
  {
   "cell_type": "code",
   "execution_count": null,
   "metadata": {},
   "outputs": [],
   "source": [
    "# Fetching purchases of recommended users\n",
    "recommended_users = recommendations['recommended_users']\n",
    "recommended_purchases = get_recommended_purchases(groups_df, recommended_users)\n",
    "recommended_purchases"
   ]
  },
  {
   "cell_type": "code",
   "execution_count": 71,
   "metadata": {},
   "outputs": [],
   "source": [
    "import pandas as pd\n",
    "\n",
    "def get_purchase_history(groups_df, user_id):\n",
    "    \"\"\"\n",
    "    Retrieves the purchase history for a specific user.\n",
    "    \n",
    "    Args:\n",
    "        groups_df (pandas.DataFrame): The DataFrame containing user and product information.\n",
    "        user_id (str): The user ID for whom to retrieve the purchase history.\n",
    "    \n",
    "    Returns:\n",
    "        pandas.Series: A Series containing the product IDs purchased by the user.\n",
    "    \"\"\"\n",
    "    return groups_df.loc[groups_df['user_id'] == user_id, 'product_id']\n",
    "\n",
    "import pandas as pd\n",
    "\n",
    "def compare_purchase_histories(groups_df, main_user_id, recommended_users):\n",
    "    \"\"\"\n",
    "    Compares the purchase history of the main user with that of recommended users.\n",
    "    \n",
    "    Args:\n",
    "        groups_df (pandas.DataFrame): The DataFrame with user and product data.\n",
    "        main_user_id (str): The user ID of the main user.\n",
    "        recommended_users (list): List of user IDs for the recommended users.\n",
    "    \n",
    "    Returns:\n",
    "        dict: A dictionary containing comparison results, including common products and unique ones.\n",
    "    \"\"\"\n",
    "    main_user_products = set(get_purchase_history(groups_df, main_user_id))\n",
    "    recommended_users_products = pd.Series(dtype='object')\n",
    "    \n",
    "    # Collect all products purchased by recommended users\n",
    "    for user_id in recommended_users:\n",
    "        user_products = get_purchase_history(groups_df, user_id)\n",
    "        recommended_users_products = pd.concat([recommended_users_products, user_products], ignore_index=True)\n",
    "\n",
    "    common_products = main_user_products.intersection(set(recommended_users_products))\n",
    "    unique_to_main_user = main_user_products.difference(set(recommended_users_products))\n",
    "    unique_to_recommended_users = set(recommended_users_products).difference(main_user_products)\n",
    "\n",
    "    return {\n",
    "        'common_products': list(common_products),\n",
    "        'unique_to_main_user': list(unique_to_main_user),\n",
    "        'unique_to_recommended_users': list(unique_to_recommended_users),\n",
    "        'common_count': len(common_products),\n",
    "        'overlap_percentage': len(common_products) / len(main_user_products) * 100 if main_user_products else 0\n",
    "    }\n"
   ]
  },
  {
   "cell_type": "code",
   "execution_count": 72,
   "metadata": {},
   "outputs": [],
   "source": [
    "def print_comparison_results(comparison_results):\n",
    "    \"\"\"\n",
    "    Prints the comparison results in a formatted DataFrame where each metric is a row.\n",
    "    \n",
    "    Args:\n",
    "        comparison_results (dict): The results dictionary from the compare_purchase_histories function.\n",
    "    \"\"\"\n",
    "    # Prepare data for DataFrame\n",
    "    data = {\n",
    "        'Metric': [\n",
    "            'Common Products',\n",
    "            'Unique to Main User',\n",
    "            'Unique to Recommended Users',\n",
    "            'Total Common Products',\n",
    "            'Overlap Percentage'\n",
    "        ],\n",
    "        'Details': [\n",
    "            ', '.join(comparison_results['common_products']),\n",
    "            ', '.join(comparison_results['unique_to_main_user']),\n",
    "            ', '.join(comparison_results['unique_to_recommended_users']),\n",
    "            str(comparison_results['common_count']),\n",
    "            f\"{comparison_results['overlap_percentage']:.2f}%\"\n",
    "        ]\n",
    "    }\n",
    "    \n",
    "    # Create DataFrame\n",
    "    results_df = pd.DataFrame(data)\n",
    "\n",
    "    # Set the DataFrame to display the Metric as row headers (index)\n",
    "    results_df.set_index('Metric', inplace=True)\n",
    "    \n",
    "    # Print the DataFrame\n",
    "    print(results_df)"
   ]
  },
  {
   "cell_type": "code",
   "execution_count": 87,
   "metadata": {},
   "outputs": [
    {
     "name": "stdout",
     "output_type": "stream",
     "text": [
      "{'recommended_users': ['a78811f7-5a23-439f-8126-47b05dda1a47', '3f1c3f14-5a49-485f-9fb1-8fd0ffdefb41']}\n"
     ]
    }
   ],
   "source": [
    "user_id = '79d54965-a338-4f96-8a05-5cb978f0219f'\n",
    "recommendations = get_user_recommendations(groups_df, user_id, interaction_matrix)\n",
    "print(recommendations)"
   ]
  },
  {
   "cell_type": "markdown",
   "metadata": {},
   "source": [
    "### User with prior group interaction"
   ]
  },
  {
   "cell_type": "code",
   "execution_count": 81,
   "metadata": {},
   "outputs": [
    {
     "name": "stdout",
     "output_type": "stream",
     "text": [
      "                                                                       Details\n",
      "Metric                                                                        \n",
      "Common Products              61e17d97-f770-4085-80d0-fc9a104646b6, 9eecea1d...\n",
      "Unique to Main User          8f19a10f-935f-4b3c-b56c-39c1a4c106bb, 5ea87fcd...\n",
      "Unique to Recommended Users  366a6016-544a-44a6-953d-7e3b24742489, b389c768...\n",
      "Total Common Products                                                        6\n",
      "Overlap Percentage                                                      66.67%\n"
     ]
    }
   ],
   "source": [
    "# Example usage:\n",
    "user_id = 'ad752023-a7af-4b14-95d0-6399f95c6eb6'\n",
    "recommendations = get_user_recommendations(groups_df, user_id, interaction_matrix)\n",
    "recommended_users = recommendations['recommended_users']\n",
    "comparison_results = compare_purchase_histories(groups_df, user_id, recommended_users)\n",
    "\n",
    "# Print the formatted comparison results\n",
    "print_comparison_results(comparison_results)"
   ]
  },
  {
   "cell_type": "markdown",
   "metadata": {},
   "source": [
    "### New User"
   ]
  },
  {
   "cell_type": "code",
   "execution_count": 83,
   "metadata": {},
   "outputs": [
    {
     "name": "stdout",
     "output_type": "stream",
     "text": [
      "                                                                       Details\n",
      "Metric                                                                        \n",
      "Common Products                                                               \n",
      "Unique to Main User                                                           \n",
      "Unique to Recommended Users  61e17d97-f770-4085-80d0-fc9a104646b6, 1d29d69a...\n",
      "Total Common Products                                                        0\n",
      "Overlap Percentage                                                       0.00%\n"
     ]
    }
   ],
   "source": [
    "# Example usage: \n",
    "\n",
    "user_id = '79d54965-a338-4f96-8a05-5cb978f0219f'\n",
    "recommendations = get_user_recommendations(groups_df, user_id, interaction_matrix)\n",
    "recommended_users = recommendations['recommended_users']\n",
    "comparison_results = compare_purchase_histories(groups_df, user_id, recommended_users)\n",
    "\n",
    "# Print the formatted comparison results\n",
    "print_comparison_results(comparison_results)"
   ]
  },
  {
   "cell_type": "code",
   "execution_count": 89,
   "metadata": {},
   "outputs": [
    {
     "name": "stdout",
     "output_type": "stream",
     "text": [
      "['a78811f7-5a23-439f-8126-47b05dda1a47', '3f1c3f14-5a49-485f-9fb1-8fd0ffdefb41']\n"
     ]
    }
   ],
   "source": [
    "user_id = '79d54965-a338-4f96-8a05-5cb978f0219f'\n",
    "recommendations = get_user_recommendations(groups_df, user_id, interaction_matrix)\n",
    "recommended_users = recommendations['recommended_users']\n",
    "comparison_results = compare_purchase_histories(groups_df, user_id, recommended_users)\n",
    "\n",
    "# Print the formatted comparison results\n",
    "print(recommended_users)"
   ]
  }
 ],
 "metadata": {
  "kernelspec": {
   "display_name": "chip",
   "language": "python",
   "name": "python3"
  },
  "language_info": {
   "codemirror_mode": {
    "name": "ipython",
    "version": 3
   },
   "file_extension": ".py",
   "mimetype": "text/x-python",
   "name": "python",
   "nbconvert_exporter": "python",
   "pygments_lexer": "ipython3",
   "version": "3.11.8"
  }
 },
 "nbformat": 4,
 "nbformat_minor": 2
}
